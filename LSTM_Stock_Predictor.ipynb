{
 "cells": [
  {
   "cell_type": "code",
   "execution_count": 1,
   "metadata": {},
   "outputs": [
    {
     "data": {
      "text/plain": [
       "0"
      ]
     },
     "execution_count": 1,
     "metadata": {},
     "output_type": "execute_result"
    }
   ],
   "source": [
    "import os\n",
    "os.system('pip3 install -r requirements.txt')"
   ]
  },
  {
   "cell_type": "code",
   "execution_count": 2,
   "metadata": {},
   "outputs": [
    {
     "name": "stdout",
     "output_type": "stream",
     "text": [
      "WARNING:tensorflow:From c:\\Users\\Javie\\AppData\\Local\\Programs\\Python\\Python310\\lib\\site-packages\\keras\\src\\losses.py:2976: The name tf.losses.sparse_softmax_cross_entropy is deprecated. Please use tf.compat.v1.losses.sparse_softmax_cross_entropy instead.\n",
      "\n"
     ]
    }
   ],
   "source": [
    "# Importamos las librerias necesarias\n",
    "import yfinance as yf\n",
    "import numpy as np\n",
    "import pandas as pd\n",
    "import matplotlib.pyplot as plt\n",
    "from sklearn.preprocessing import MinMaxScaler\n",
    "from tensorflow import keras\n",
    "import matplotlib.dates as mdates\n"
   ]
  },
  {
   "cell_type": "markdown",
   "metadata": {},
   "source": []
  },
  {
   "cell_type": "code",
   "execution_count": 3,
   "metadata": {},
   "outputs": [
    {
     "name": "stdout",
     "output_type": "stream",
     "text": [
      "[*********************100%%**********************]  1 of 1 completed\n",
      "                  Open        High         Low       Close   Adj Close  \\\n",
      "Date                                                                     \n",
      "2010-01-04  112.370003  113.389999  111.510002  113.330002   87.129951   \n",
      "2010-01-05  113.260002  113.680000  112.849998  113.629997   87.360558   \n",
      "2010-01-06  113.519997  113.989998  113.430000  113.709999   87.422081   \n",
      "2010-01-07  113.500000  114.330002  113.180000  114.190002   87.791107   \n",
      "2010-01-08  113.889999  114.620003  113.660004  114.570000   88.083282   \n",
      "...                ...         ...         ...         ...         ...   \n",
      "2022-12-23  379.649994  383.059998  378.029999  382.910004  377.177429   \n",
      "2022-12-27  382.790009  383.149994  379.649994  381.399994  375.690002   \n",
      "2022-12-28  381.329987  383.390015  376.420013  376.660004  371.020966   \n",
      "2022-12-29  379.630005  384.350006  379.079987  383.440002  377.699463   \n",
      "2022-12-30  380.640015  382.579987  378.429993  382.429993  376.704590   \n",
      "\n",
      "               Volume  \n",
      "Date                   \n",
      "2010-01-04  118944600  \n",
      "2010-01-05  111579900  \n",
      "2010-01-06  116074400  \n",
      "2010-01-07  131091100  \n",
      "2010-01-08  126402800  \n",
      "...               ...  \n",
      "2022-12-23   59857300  \n",
      "2022-12-27   51638200  \n",
      "2022-12-28   70911500  \n",
      "2022-12-29   66970900  \n",
      "2022-12-30   84022200  \n",
      "\n",
      "[3272 rows x 6 columns]\n"
     ]
    }
   ],
   "source": [
    "# Download historical data for SPY from Yahoo Finance\n",
    "spy = yf.download('SPY', start='2010-01-01', end='2023-01-01')\n",
    "print(spy)\n",
    "\n",
    "# Split data into training (2010-2020) and validation (2020-2023) sets\n",
    "training_data = spy['Adj Close']['2010-01-01':'2020-12-31']\n",
    "validation_data = spy['Adj Close']['2021-01-01':'2023-01-01']\n",
    "\n",
    "# Use 'Adj Close' prices as the stock price for training\n",
    "training_set = training_data.values.reshape(-1, 1)\n",
    "validation_set = validation_data.values.reshape(-1, 1)"
   ]
  },
  {
   "cell_type": "code",
   "execution_count": 4,
   "metadata": {},
   "outputs": [],
   "source": [
    "# Feature scaling using MinMaxScaler\n",
    "sc = MinMaxScaler(feature_range=(0, 1))\n",
    "training_set_scaled = sc.fit_transform(training_set)\n",
    "validation_set_scaled = sc.transform(validation_set)"
   ]
  },
  {
   "cell_type": "code",
   "execution_count": 5,
   "metadata": {},
   "outputs": [],
   "source": [
    "# Creating input sequences for training\n",
    "def create_sequences(data, seq_length=60):\n",
    "    X = []\n",
    "    y = []\n",
    "    for i in range(seq_length, len(data)):\n",
    "        X.append(data[i-seq_length:i, 0])\n",
    "        y.append(data[i, 0])\n",
    "    return np.array(X), np.array(y)\n",
    "\n",
    "X_train, y_train = create_sequences(training_set_scaled)\n",
    "X_validation, y_validation = create_sequences(validation_set_scaled)\n",
    "\n",
    "# Reshape inputs for LSTM model\n",
    "X_train = np.reshape(X_train, (X_train.shape[0], X_train.shape[1], 1))\n",
    "X_validation = np.reshape(X_validation, (X_validation.shape[0], X_validation.shape[1], 1))"
   ]
  },
  {
   "cell_type": "code",
   "execution_count": 6,
   "metadata": {},
   "outputs": [
    {
     "name": "stdout",
     "output_type": "stream",
     "text": [
      "WARNING:tensorflow:From c:\\Users\\Javie\\AppData\\Local\\Programs\\Python\\Python310\\lib\\site-packages\\keras\\src\\backend.py:873: The name tf.get_default_graph is deprecated. Please use tf.compat.v1.get_default_graph instead.\n",
      "\n"
     ]
    }
   ],
   "source": [
    "# Building the LSTM Model\n",
    "model = keras.Sequential()\n",
    "model.add(keras.layers.LSTM(units=50, return_sequences=True, input_shape=(X_train.shape[1], 1)))\n",
    "model.add(keras.layers.Dropout(0.2))\n",
    "model.add(keras.layers.LSTM(units=50, return_sequences=True))\n",
    "model.add(keras.layers.Dropout(0.2))\n",
    "model.add(keras.layers.LSTM(units=50, return_sequences=True))\n",
    "model.add(keras.layers.Dropout(0.2))\n",
    "model.add(keras.layers.LSTM(units=50))\n",
    "model.add(keras.layers.Dropout(0.2))\n",
    "model.add(keras.layers.Dense(units=1))"
   ]
  },
  {
   "cell_type": "code",
   "execution_count": 7,
   "metadata": {},
   "outputs": [
    {
     "name": "stdout",
     "output_type": "stream",
     "text": [
      "WARNING:tensorflow:From c:\\Users\\Javie\\AppData\\Local\\Programs\\Python\\Python310\\lib\\site-packages\\keras\\src\\optimizers\\__init__.py:309: The name tf.train.Optimizer is deprecated. Please use tf.compat.v1.train.Optimizer instead.\n",
      "\n",
      "Epoch 1/100\n",
      "WARNING:tensorflow:From c:\\Users\\Javie\\AppData\\Local\\Programs\\Python\\Python310\\lib\\site-packages\\keras\\src\\utils\\tf_utils.py:492: The name tf.ragged.RaggedTensorValue is deprecated. Please use tf.compat.v1.ragged.RaggedTensorValue instead.\n",
      "\n",
      "85/85 [==============================] - 13s 73ms/step - loss: 0.0142 - val_loss: 0.0155\n",
      "Epoch 2/100\n",
      "85/85 [==============================] - 5s 61ms/step - loss: 0.0027 - val_loss: 0.0225\n",
      "Epoch 3/100\n",
      "85/85 [==============================] - 5s 64ms/step - loss: 0.0026 - val_loss: 0.0068\n",
      "Epoch 4/100\n",
      "85/85 [==============================] - 5s 61ms/step - loss: 0.0023 - val_loss: 0.0033\n",
      "Epoch 5/100\n",
      "85/85 [==============================] - 5s 64ms/step - loss: 0.0022 - val_loss: 0.0035\n",
      "Epoch 6/100\n",
      "85/85 [==============================] - 5s 59ms/step - loss: 0.0024 - val_loss: 0.0112\n",
      "Epoch 7/100\n",
      "85/85 [==============================] - 5s 60ms/step - loss: 0.0020 - val_loss: 0.0139\n",
      "Epoch 8/100\n",
      "85/85 [==============================] - 5s 61ms/step - loss: 0.0020 - val_loss: 0.0028\n",
      "Epoch 9/100\n",
      "85/85 [==============================] - 5s 64ms/step - loss: 0.0019 - val_loss: 0.0025\n",
      "Epoch 10/100\n",
      "85/85 [==============================] - 5s 59ms/step - loss: 0.0017 - val_loss: 0.0053\n",
      "Epoch 11/100\n",
      "85/85 [==============================] - 5s 65ms/step - loss: 0.0017 - val_loss: 0.0036\n",
      "Epoch 12/100\n",
      "85/85 [==============================] - 5s 60ms/step - loss: 0.0017 - val_loss: 0.0205\n",
      "Epoch 13/100\n",
      "85/85 [==============================] - 5s 59ms/step - loss: 0.0017 - val_loss: 0.0038\n",
      "Epoch 14/100\n",
      "85/85 [==============================] - 5s 59ms/step - loss: 0.0018 - val_loss: 0.0065\n",
      "Epoch 15/100\n",
      "85/85 [==============================] - 5s 60ms/step - loss: 0.0016 - val_loss: 0.0059\n",
      "Epoch 16/100\n",
      "85/85 [==============================] - 5s 62ms/step - loss: 0.0017 - val_loss: 0.0055\n",
      "Epoch 17/100\n",
      "85/85 [==============================] - 5s 61ms/step - loss: 0.0013 - val_loss: 0.0089\n",
      "Epoch 18/100\n",
      "85/85 [==============================] - 5s 59ms/step - loss: 0.0016 - val_loss: 0.0042\n",
      "Epoch 19/100\n",
      "85/85 [==============================] - 5s 58ms/step - loss: 0.0017 - val_loss: 0.0050\n",
      "Epoch 20/100\n",
      "54/85 [==================>...........] - ETA: 1s - loss: 0.0012"
     ]
    }
   ],
   "source": [
    "# Compiling the LSTM Model\n",
    "model.compile(optimizer='adam', loss='mean_squared_error')\n",
    "\n",
    "# Training the Model and store history\n",
    "history = model.fit(X_train, y_train, epochs=100, batch_size=32, validation_data=(X_validation, y_validation))"
   ]
  },
  {
   "cell_type": "code",
   "execution_count": null,
   "metadata": {},
   "outputs": [],
   "source": [
    "# Plot loss and accuracy during training\n",
    "plt.figure(figsize=(10, 5))\n",
    "plt.plot(history.history['loss'], label='Training Loss')\n",
    "plt.plot(history.history['val_loss'], label='Validation Loss')\n",
    "plt.title('Model Loss')\n",
    "plt.xlabel('Epoch')\n",
    "plt.ylabel('Loss')\n",
    "plt.legend()\n",
    "plt.show()"
   ]
  },
  {
   "cell_type": "code",
   "execution_count": null,
   "metadata": {},
   "outputs": [],
   "source": [
    "# Download test data for SPY from Yahoo Finance\n",
    "spy_test = yf.download('SPY', start='2023-01-01', end='2023-07-31')\n",
    "\n",
    "# Use 'Adj Close' prices as the test data\n",
    "real_stock_price = spy_test['Adj Close'].values.reshape(-1, 1)"
   ]
  },
  {
   "cell_type": "code",
   "execution_count": null,
   "metadata": {},
   "outputs": [],
   "source": [
    "# Preparing Test Data\n",
    "dataset_total = pd.concat((spy['Adj Close'], spy_test['Adj Close']), axis=0)\n",
    "inputs = dataset_total[len(dataset_total) - len(spy_test) - 60:].values\n",
    "inputs = inputs.reshape(-1, 1)\n",
    "inputs = sc.transform(inputs)\n",
    "X_test = []\n",
    "for i in range(60, len(inputs)):\n",
    "    X_test.append(inputs[i-60:i, 0])\n",
    "X_test = np.array(X_test)\n",
    "X_test = np.reshape(X_test, (X_test.shape[0], X_test.shape[1], 1))"
   ]
  },
  {
   "cell_type": "code",
   "execution_count": null,
   "metadata": {},
   "outputs": [],
   "source": [
    "# Making Predictions\n",
    "predicted_stock_price = model.predict(X_test)\n",
    "predicted_stock_price = sc.inverse_transform(predicted_stock_price)"
   ]
  },
  {
   "cell_type": "code",
   "execution_count": null,
   "metadata": {},
   "outputs": [],
   "source": [
    "# Prepare dates for the predicted stock prices\n",
    "date_range = pd.date_range(start='2023-01-01', periods=len(predicted_stock_price), freq='B')  # 'B' for business day frequency\n",
    "\n",
    "# Visualizing Results with Month and Year on X-axis\n",
    "plt.figure(figsize=(10, 6))\n",
    "plt.plot(spy_test.index, real_stock_price, color='black', label='SPY Stock Price')\n",
    "plt.plot(date_range, predicted_stock_price, color='green', label='Predicted SPY Stock Price')\n",
    "plt.gca().xaxis.set_major_locator(mdates.MonthLocator(interval=3))  # Show tick marks for every 3 months\n",
    "plt.gca().xaxis.set_major_formatter(mdates.DateFormatter('%b %Y'))  # Format x-axis labels as 'Jan 2023', 'Feb 2023', etc.\n",
    "plt.title('SPY Stock Price Prediction')\n",
    "plt.xlabel('Time')\n",
    "plt.ylabel('SPY Stock Price')\n",
    "plt.legend()\n",
    "plt.show()"
   ]
  }
 ],
 "metadata": {
  "kernelspec": {
   "display_name": "Python 3",
   "language": "python",
   "name": "python3"
  },
  "language_info": {
   "codemirror_mode": {
    "name": "ipython",
    "version": 3
   },
   "file_extension": ".py",
   "mimetype": "text/x-python",
   "name": "python",
   "nbconvert_exporter": "python",
   "pygments_lexer": "ipython3",
   "version": "3.10.11"
  }
 },
 "nbformat": 4,
 "nbformat_minor": 2
}
